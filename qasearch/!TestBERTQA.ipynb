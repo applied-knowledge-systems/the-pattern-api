{
 "cells": [
  {
   "cell_type": "code",
   "execution_count": 1,
   "id": "color-people",
   "metadata": {},
   "outputs": [],
   "source": [
    "import numpy as np\n",
    "import torch\n",
    "import os "
   ]
  },
  {
   "cell_type": "code",
   "execution_count": 2,
   "id": "desirable-syntax",
   "metadata": {},
   "outputs": [],
   "source": [
    "tokenizer = None \n",
    "    \n",
    "import numpy as np\n",
    "import torch\n",
    "import os \n",
    "\n",
    "config_switch=os.getenv('DOCKER', 'local')\n",
    "if config_switch=='local':\n",
    "    startup_nodes = [{\"host\": \"127.0.0.1\", \"port\": \"30001\"}, {\"host\": \"127.0.0.1\", \"port\":\"30002\"}, {\"host\":\"127.0.0.1\", \"port\":\"30003\"}]\n",
    "else:\n",
    "    startup_nodes = [{\"host\": \"rgcluster\", \"port\": \"30001\"}, {\"host\": \"rgcluster\", \"port\":\"30002\"}, {\"host\":\"rgcluster\", \"port\":\"30003\"}]\n",
    "\n",
    "try: \n",
    "    from redisai import ClusterClient\n",
    "    redisai_cluster_client = ClusterClient(startup_nodes=startup_nodes)\n",
    "except:\n",
    "    print(\"Redis Cluster is not available\")\n",
    "\n",
    "def loadTokeniser():\n",
    "    global tokenizer\n",
    "    from transformers import BertTokenizerFast\n",
    "    tokenizer = BertTokenizerFast.from_pretrained(\"bert-large-uncased-whole-word-masking-finetuned-squad\")\n",
    "    return tokenizer\n",
    "\n",
    "\n",
    "def qa(question, sentence_key,hash_tag):\n",
    "    ### question is encoded\n",
    "    ### use pre-computed context/answer text tensor\n",
    "\n",
    "    global tokenizer\n",
    "\n",
    "    if not tokenizer:\n",
    "        tokenizer=loadTokeniser()\n",
    "\n",
    "     \n",
    "\n",
    "    token_key = f\"tokenized:bert:qa:{sentence_key}\"\n",
    "\n",
    "    input_ids_question = tokenizer.encode(question, add_special_tokens=True, truncation=True, return_tensors=\"np\")\n",
    "\n",
    "\n",
    "    \n",
    "    input_ids_context=redisai_cluster_client.tensorget(token_key)\n",
    "    input_ids = np.append(input_ids_question,input_ids_context)\n",
    "    \n",
    "    print(input_ids.shape)\n",
    "    print(input_ids)\n",
    "    attention_mask = np.array([[1]*len(input_ids)])\n",
    "    input_idss=np.array([input_ids])\n",
    "    print(input_idss.shape)\n",
    "    print(\"Attention mask shape \",attention_mask.shape)\n",
    "    \n",
    "    num_seg_a=input_ids_question.shape[1]\n",
    "    print(num_seg_a)\n",
    "    num_seg_b=input_ids_context.shape[0]\n",
    "    print(num_seg_b)\n",
    "    token_type_ids = np.array([0]*num_seg_a + [1]*num_seg_b)\n",
    "    print(\"Segments id\",token_type_ids.shape)\n",
    "    \n",
    "    redisai_cluster_client.tensorset(f'input_ids{hash_tag}', input_idss)\n",
    "    redisai_cluster_client.tensorset(f'attention_mask{hash_tag}', attention_mask)\n",
    "    redisai_cluster_client.tensorset(f'token_type_ids{hash_tag}', token_type_ids)\n",
    "\n",
    "    redisai_cluster_client.modelrun(f'bert-qa{hash_tag}', [f'input_ids{hash_tag}', f'attention_mask{hash_tag}', f'token_type_ids{hash_tag}'],\n",
    "                        [f'answer_start_scores{hash_tag}', f'answer_end_scores{hash_tag}'])\n",
    "    print(f\"Model run on {hash_tag}\")\n",
    "    answer_start_scores = redisai_cluster_client.tensorget(f'answer_start_scores{hash_tag}')\n",
    "    answer_end_scores = redisai_cluster_client.tensorget(f'answer_end_scores{hash_tag}')\n",
    "\n",
    "    answer_start = np.argmax(answer_start_scores)\n",
    "    answer_end = np.argmax(answer_end_scores) + 1\n",
    "    \n",
    "    answer = tokenizer.convert_tokens_to_string(tokenizer.convert_ids_to_tokens(input_ids[answer_start:answer_end], skip_special_tokens = True))\n",
    "    print(answer)\n",
    "    return answer\n"
   ]
  },
  {
   "cell_type": "code",
   "execution_count": 3,
   "id": "occasional-fitness",
   "metadata": {
    "scrolled": true
   },
   "outputs": [
    {
     "name": "stdout",
     "output_type": "stream",
     "text": [
      "(99,)\n",
      "[  101 12353  1997  2451  3967  7312   102  1045  1050  1037  1052  1037\n",
      "  1054  1037  1048  1048  1041  1048  1037  1052  1052  1054  1051  1037\n",
      "  1039  1044  1059  1041  1040  1045  1054  1041  1039  1056  1048  1061\n",
      "  1054  1041  1039  1051  1058  1041  1054  1041  1040  1044  1061  1038\n",
      "  1054  1045  1040  1045  1062  1041  1040  1058  1045  1054  1037  1048\n",
      "  1055  1041  1053  1057  1041  1050  1039  1041  1055  1042  1054  1051\n",
      "  1049  1056  1044  1041  1055  1057  1054  1042  1037  1039  1041  1051\n",
      "  1042  1056  1044  1041  1049  1045  1039  1054  1051  1037  1054  1054\n",
      "  1037  1061   102]\n",
      "(1, 99)\n",
      "Attention mask shape  (1, 99)\n",
      "7\n",
      "92\n",
      "Segments id (99,)\n",
      "Model run on {06S}\n",
      "effectiveness of community contact reduction\n",
      "effectiveness of community contact reduction\n",
      "CPU times: user 184 ms, sys: 29.9 ms, total: 214 ms\n",
      "Wall time: 3.07 s\n"
     ]
    }
   ],
   "source": [
    "%%time\n",
    "question=\"Effectiveness of community contact reduction\"\n",
    "content_text=\"This would need tight coordination among pharmaceutical companies, governments, regulatory agencies, and the World Health Organization (WHO), as well as novel and out-of-the-box approaches to cGMP production, release processes, regulatory science, and clinical trial design.\"\n",
    "print(qa(question,\"PMC261870.xml:{06S}:26\",'{06S}'))"
   ]
  },
  {
   "cell_type": "code",
   "execution_count": 4,
   "id": "spare-minute",
   "metadata": {},
   "outputs": [],
   "source": [
    "question=\"Effectiveness of community contact reduction\""
   ]
  },
  {
   "cell_type": "code",
   "execution_count": 5,
   "id": "knowing-touch",
   "metadata": {},
   "outputs": [],
   "source": [
    "sentence_key=\"PMC261870.xml:{06S}:26\"\n",
    "token_key = f\"tokenized:bert:qa:{sentence_key}\""
   ]
  },
  {
   "cell_type": "code",
   "execution_count": 6,
   "id": "portuguese-basin",
   "metadata": {},
   "outputs": [
    {
     "data": {
      "text/plain": [
       "ClusterConnectionPool<ClusterConnection<host=localhost,port=6379,db=0>, ClusterConnection<host=localhost,port=6379,db=0>, ClusterConnection<host=localhost,port=6379,db=0>>"
      ]
     },
     "execution_count": 6,
     "metadata": {},
     "output_type": "execute_result"
    }
   ],
   "source": [
    "redisai_cluster_client.connection_pool"
   ]
  },
  {
   "cell_type": "code",
   "execution_count": 7,
   "id": "included-strengthening",
   "metadata": {},
   "outputs": [
    {
     "name": "stdout",
     "output_type": "stream",
     "text": [
      "{'readonly': False, 'pid': 1054273, 'host': '172.19.0.4', 'port': 30001, 'db': 0, 'username': None, 'client_name': None, 'password': None, 'socket_timeout': None, 'socket_connect_timeout': None, 'socket_keepalive': False, 'socket_keepalive_options': {}, 'socket_type': 0, 'retry_on_timeout': False, 'health_check_interval': 0, 'next_health_check': 0, 'encoder': <redis.connection.Encoder object at 0x7f41c8b56190>, '_sock': <socket.socket fd=39, family=AddressFamily.AF_INET, type=SocketKind.SOCK_STREAM, proto=6, laddr=('172.19.0.1', 47664), raddr=('172.19.0.4', 30001)>, '_parser': <rediscluster.connection.ClusterParser object at 0x7f41c6ec8610>, '_connect_callbacks': [], '_buffer_cutoff': 6000, 'node': {'host': '172.19.0.4', 'port': 30001, 'name': '172.19.0.4:30001', 'server_type': 'master'}}\n",
      "[b'effectiveness of community contact reduction']\n",
      "CPU times: user 586 µs, sys: 192 µs, total: 778 µs\n",
      "Wall time: 656 µs\n"
     ]
    }
   ],
   "source": [
    "%%time \n",
    "slot = redisai_cluster_client.connection_pool.nodes.keyslot(sentence_key)\n",
    "node = redisai_cluster_client.connection_pool.get_master_node_by_slot(slot)\n",
    "connection = redisai_cluster_client.connection_pool.get_connection_by_node(node)\n",
    "connection.send_command('RG.TRIGGER',\"RunQABERT\",sentence_key,question)\n",
    "print(connection.__dict__)\n",
    "print(redisai_cluster_client.parse_response(connection,\"RG.TRIGGER\"))"
   ]
  },
  {
   "cell_type": "code",
   "execution_count": 8,
   "id": "marine-opposition",
   "metadata": {},
   "outputs": [
    {
     "name": "stdout",
     "output_type": "stream",
     "text": [
      "{'readonly': False, 'pid': 1054273, 'host': '172.19.0.4', 'port': 30001, 'db': 0, 'username': None, 'client_name': None, 'password': None, 'socket_timeout': None, 'socket_connect_timeout': None, 'socket_keepalive': False, 'socket_keepalive_options': {}, 'socket_type': 0, 'retry_on_timeout': False, 'health_check_interval': 0, 'next_health_check': 0, 'encoder': <redis.connection.Encoder object at 0x7f41c6e8e760>, '_sock': <socket.socket fd=46, family=AddressFamily.AF_INET, type=SocketKind.SOCK_STREAM, proto=6, laddr=('172.19.0.1', 47666), raddr=('172.19.0.4', 30001)>, '_parser': <rediscluster.connection.ClusterParser object at 0x7f41c6e8e850>, '_connect_callbacks': [], '_buffer_cutoff': 6000, 'node': {'host': '172.19.0.4', 'port': 30001, 'name': '172.19.0.4:30001', 'server_type': 'master'}}\n",
      "[b'effectiveness of community contact reduction']\n",
      "CPU times: user 853 µs, sys: 143 µs, total: 996 µs\n",
      "Wall time: 9.71 ms\n"
     ]
    }
   ],
   "source": [
    "%%time\n",
    "slot = redisai_cluster_client.connection_pool.nodes.keyslot(sentence_key)\n",
    "node = redisai_cluster_client.connection_pool.get_master_node_by_slot(slot)\n",
    "connection = redisai_cluster_client.connection_pool.get_connection_by_node(node)\n",
    "connection.send_command('RG.TRIGGER',\"RunQABERT\",sentence_key,question)\n",
    "print(connection.__dict__)\n",
    "print(redisai_cluster_client.parse_response(connection,\"RG.TRIGGER\"))"
   ]
  },
  {
   "cell_type": "code",
   "execution_count": null,
   "id": "domestic-trigger",
   "metadata": {},
   "outputs": [],
   "source": []
  },
  {
   "cell_type": "code",
   "execution_count": 9,
   "id": "developed-economics",
   "metadata": {},
   "outputs": [
    {
     "data": {
      "text/plain": [
       "numpy.int64"
      ]
     },
     "execution_count": 9,
     "metadata": {},
     "output_type": "execute_result"
    }
   ],
   "source": [
    "np.int64"
   ]
  },
  {
   "cell_type": "code",
   "execution_count": null,
   "id": "black-sessions",
   "metadata": {},
   "outputs": [],
   "source": []
  }
 ],
 "metadata": {
  "kernelspec": {
   "display_name": "Python 3",
   "language": "python",
   "name": "python3"
  },
  "language_info": {
   "codemirror_mode": {
    "name": "ipython",
    "version": 3
   },
   "file_extension": ".py",
   "mimetype": "text/x-python",
   "name": "python",
   "nbconvert_exporter": "python",
   "pygments_lexer": "ipython3",
   "version": "3.8.8"
  }
 },
 "nbformat": 4,
 "nbformat_minor": 5
}
