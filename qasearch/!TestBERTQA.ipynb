{
 "cells": [
  {
   "cell_type": "code",
   "execution_count": 1,
   "id": "color-people",
   "metadata": {},
   "outputs": [],
   "source": [
    "import numpy as np\n",
    "import torch\n",
    "import os "
   ]
  },
  {
   "cell_type": "code",
   "execution_count": 2,
   "id": "desirable-syntax",
   "metadata": {},
   "outputs": [],
   "source": [
    "tokenizer = None \n",
    "    \n",
    "import numpy as np\n",
    "import torch\n",
    "import os \n",
    "\n",
    "config_switch=os.getenv('DOCKER', 'local')\n",
    "if config_switch=='local':\n",
    "    startup_nodes = [{\"host\": \"127.0.0.1\", \"port\": \"30001\"}, {\"host\": \"127.0.0.1\", \"port\":\"30002\"}, {\"host\":\"127.0.0.1\", \"port\":\"30003\"}]\n",
    "else:\n",
    "    startup_nodes = [{\"host\": \"rgcluster\", \"port\": \"30001\"}, {\"host\": \"rgcluster\", \"port\":\"30002\"}, {\"host\":\"rgcluster\", \"port\":\"30003\"}]\n",
    "\n",
    "try: \n",
    "    from redisai import ClusterClient\n",
    "    redisai_cluster_client = ClusterClient(startup_nodes=startup_nodes)\n",
    "except:\n",
    "    print(\"Redis Cluster is not available\")\n",
    "\n",
    "def loadTokeniser():\n",
    "    global tokenizer\n",
    "    from transformers import BertTokenizerFast\n",
    "    tokenizer = BertTokenizerFast.from_pretrained(\"bert-large-uncased-whole-word-masking-finetuned-squad\")\n",
    "    return tokenizer\n",
    "\n",
    "\n",
    "def qa(question, sentence_key,hash_tag):\n",
    "    ### question is encoded\n",
    "    ### use pre-computed context/answer text tensor\n",
    "\n",
    "    global tokenizer\n",
    "\n",
    "    if not tokenizer:\n",
    "        tokenizer=loadTokeniser()\n",
    "\n",
    "     \n",
    "\n",
    "    token_key = f\"tokenized:bert:qa:{sentence_key}\"\n",
    "\n",
    "    input_ids_question = tokenizer.encode(question, add_special_tokens=True, truncation=True, return_tensors=\"np\")\n",
    "\n",
    "\n",
    "    \n",
    "    input_ids_context=redisai_cluster_client.tensorget(token_key)\n",
    "    input_ids = np.append(input_ids_question,input_ids_context)\n",
    "    \n",
    "    print(input_ids.shape)\n",
    "    print(input_ids)\n",
    "    attention_mask = np.array([[1]*len(input_ids)])\n",
    "    input_idss=np.array([input_ids])\n",
    "    print(input_idss.shape)\n",
    "    print(\"Attention mask shape \",attention_mask.shape)\n",
    "    \n",
    "    num_seg_a=input_ids_question.shape[1]\n",
    "    print(num_seg_a)\n",
    "    num_seg_b=input_ids_context.shape[0]\n",
    "    print(num_seg_b)\n",
    "    token_type_ids = np.array([0]*num_seg_a + [1]*num_seg_b)\n",
    "    print(\"Segments id\",token_type_ids.shape)\n",
    "    \n",
    "    redisai_cluster_client.tensorset(f'input_ids{hash_tag}', input_idss)\n",
    "    redisai_cluster_client.tensorset(f'attention_mask{hash_tag}', attention_mask)\n",
    "    redisai_cluster_client.tensorset(f'token_type_ids{hash_tag}', token_type_ids)\n",
    "\n",
    "    redisai_cluster_client.modelrun(f'bert-qa{hash_tag}', [f'input_ids{hash_tag}', f'attention_mask{hash_tag}', f'token_type_ids{hash_tag}'],\n",
    "                        [f'answer_start_scores{hash_tag}', f'answer_end_scores{hash_tag}'])\n",
    "    print(f\"Model run on {hash_tag}\")\n",
    "    answer_start_scores = redisai_cluster_client.tensorget(f'answer_start_scores{hash_tag}')\n",
    "    answer_end_scores = redisai_cluster_client.tensorget(f'answer_end_scores{hash_tag}')\n",
    "\n",
    "    answer_start = np.argmax(answer_start_scores)\n",
    "    answer_end = np.argmax(answer_end_scores) + 1\n",
    "    \n",
    "    answer = tokenizer.convert_tokens_to_string(tokenizer.convert_ids_to_tokens(input_ids[answer_start:answer_end], skip_special_tokens = True))\n",
    "    print(answer)\n",
    "    return answer\n"
   ]
  },
  {
   "cell_type": "code",
   "execution_count": 3,
   "id": "occasional-fitness",
   "metadata": {
    "scrolled": true
   },
   "outputs": [
    {
     "name": "stdout",
     "output_type": "stream",
     "text": [
      "(99,)\n",
      "[  101 12353  1997  2451  3967  7312   102  1045  1050  1037  1052  1037\n",
      "  1054  1037  1048  1048  1041  1048  1037  1052  1052  1054  1051  1037\n",
      "  1039  1044  1059  1041  1040  1045  1054  1041  1039  1056  1048  1061\n",
      "  1054  1041  1039  1051  1058  1041  1054  1041  1040  1044  1061  1038\n",
      "  1054  1045  1040  1045  1062  1041  1040  1058  1045  1054  1037  1048\n",
      "  1055  1041  1053  1057  1041  1050  1039  1041  1055  1042  1054  1051\n",
      "  1049  1056  1044  1041  1055  1057  1054  1042  1037  1039  1041  1051\n",
      "  1042  1056  1044  1041  1049  1045  1039  1054  1051  1037  1054  1054\n",
      "  1037  1061   102]\n",
      "(1, 99)\n",
      "Attention mask shape  (1, 99)\n",
      "7\n",
      "92\n",
      "Segments id (99,)\n",
      "Model run on {06S}\n",
      "effectiveness of community contact reduction\n",
      "effectiveness of community contact reduction\n",
      "CPU times: user 174 ms, sys: 26.8 ms, total: 201 ms\n",
      "Wall time: 2.14 s\n"
     ]
    }
   ],
   "source": [
    "%%time\n",
    "question=\"Effectiveness of community contact reduction\"\n",
    "content_text=\"This would need tight coordination among pharmaceutical companies, governments, regulatory agencies, and the World Health Organization (WHO), as well as novel and out-of-the-box approaches to cGMP production, release processes, regulatory science, and clinical trial design.\"\n",
    "print(qa(question,\"PMC261870.xml:{06S}:26\",'{06S}'))"
   ]
  },
  {
   "cell_type": "code",
   "execution_count": 4,
   "id": "unusual-repair",
   "metadata": {},
   "outputs": [],
   "source": [
    "question=\"Effectiveness of community contact reduction\""
   ]
  },
  {
   "cell_type": "code",
   "execution_count": 5,
   "id": "knowing-touch",
   "metadata": {},
   "outputs": [],
   "source": [
    "sentence_key=\"PMC261870.xml:{06S}:26\"\n",
    "token_key = f\"tokenized:bert:qa:{sentence_key}\""
   ]
  },
  {
   "cell_type": "code",
   "execution_count": 6,
   "id": "portuguese-basin",
   "metadata": {},
   "outputs": [
    {
     "data": {
      "text/plain": [
       "ClusterConnectionPool<ClusterConnection<host=localhost,port=6379,db=0>, ClusterConnection<host=localhost,port=6379,db=0>, ClusterConnection<host=localhost,port=6379,db=0>>"
      ]
     },
     "execution_count": 6,
     "metadata": {},
     "output_type": "execute_result"
    }
   ],
   "source": [
    "redisai_cluster_client.connection_pool"
   ]
  },
  {
   "cell_type": "code",
   "execution_count": 7,
   "id": "included-strengthening",
   "metadata": {},
   "outputs": [
    {
     "name": "stdout",
     "output_type": "stream",
     "text": [
      "{'readonly': False, 'pid': 2218382, 'host': '172.19.0.4', 'port': 30001, 'db': 0, 'username': None, 'client_name': None, 'password': None, 'socket_timeout': None, 'socket_connect_timeout': None, 'socket_keepalive': False, 'socket_keepalive_options': {}, 'socket_type': 0, 'retry_on_timeout': False, 'health_check_interval': 0, 'next_health_check': 0, 'encoder': <redis.connection.Encoder object at 0x7ff7682aa070>, '_sock': <socket.socket fd=42, family=AddressFamily.AF_INET, type=SocketKind.SOCK_STREAM, proto=6, laddr=('172.19.0.1', 45804), raddr=('172.19.0.4', 30001)>, '_parser': <rediscluster.connection.ClusterParser object at 0x7ff672cc0fa0>, '_connect_callbacks': [], '_buffer_cutoff': 6000, 'node': {'host': '172.19.0.4', 'port': 30001, 'name': '172.19.0.4:30001', 'server_type': 'master'}}\n"
     ]
    },
    {
     "ename": "ResponseError",
     "evalue": "subcommand not found",
     "output_type": "error",
     "traceback": [
      "\u001b[0;31m---------------------------------------------------------------------------\u001b[0m",
      "\u001b[0;31mResponseError\u001b[0m                             Traceback (most recent call last)",
      "\u001b[0;32m<timed exec>\u001b[0m in \u001b[0;36m<module>\u001b[0;34m\u001b[0m\n",
      "\u001b[0;32m~/anaconda3/envs/thepattern_env/lib/python3.8/site-packages/redis/client.py\u001b[0m in \u001b[0;36mparse_response\u001b[0;34m(self, connection, command_name, **options)\u001b[0m\n\u001b[1;32m    913\u001b[0m         \u001b[0;34m\"Parses a response from the Redis server\"\u001b[0m\u001b[0;34m\u001b[0m\u001b[0;34m\u001b[0m\u001b[0m\n\u001b[1;32m    914\u001b[0m         \u001b[0;32mtry\u001b[0m\u001b[0;34m:\u001b[0m\u001b[0;34m\u001b[0m\u001b[0;34m\u001b[0m\u001b[0m\n\u001b[0;32m--> 915\u001b[0;31m             \u001b[0mresponse\u001b[0m \u001b[0;34m=\u001b[0m \u001b[0mconnection\u001b[0m\u001b[0;34m.\u001b[0m\u001b[0mread_response\u001b[0m\u001b[0;34m(\u001b[0m\u001b[0;34m)\u001b[0m\u001b[0;34m\u001b[0m\u001b[0;34m\u001b[0m\u001b[0m\n\u001b[0m\u001b[1;32m    916\u001b[0m         \u001b[0;32mexcept\u001b[0m \u001b[0mResponseError\u001b[0m\u001b[0;34m:\u001b[0m\u001b[0;34m\u001b[0m\u001b[0;34m\u001b[0m\u001b[0m\n\u001b[1;32m    917\u001b[0m             \u001b[0;32mif\u001b[0m \u001b[0mEMPTY_RESPONSE\u001b[0m \u001b[0;32min\u001b[0m \u001b[0moptions\u001b[0m\u001b[0;34m:\u001b[0m\u001b[0;34m\u001b[0m\u001b[0;34m\u001b[0m\u001b[0m\n",
      "\u001b[0;32m~/anaconda3/envs/thepattern_env/lib/python3.8/site-packages/redis/connection.py\u001b[0m in \u001b[0;36mread_response\u001b[0;34m(self)\u001b[0m\n\u001b[1;32m    754\u001b[0m \u001b[0;34m\u001b[0m\u001b[0m\n\u001b[1;32m    755\u001b[0m         \u001b[0;32mif\u001b[0m \u001b[0misinstance\u001b[0m\u001b[0;34m(\u001b[0m\u001b[0mresponse\u001b[0m\u001b[0;34m,\u001b[0m \u001b[0mResponseError\u001b[0m\u001b[0;34m)\u001b[0m\u001b[0;34m:\u001b[0m\u001b[0;34m\u001b[0m\u001b[0;34m\u001b[0m\u001b[0m\n\u001b[0;32m--> 756\u001b[0;31m             \u001b[0;32mraise\u001b[0m \u001b[0mresponse\u001b[0m\u001b[0;34m\u001b[0m\u001b[0;34m\u001b[0m\u001b[0m\n\u001b[0m\u001b[1;32m    757\u001b[0m         \u001b[0;32mreturn\u001b[0m \u001b[0mresponse\u001b[0m\u001b[0;34m\u001b[0m\u001b[0;34m\u001b[0m\u001b[0m\n\u001b[1;32m    758\u001b[0m \u001b[0;34m\u001b[0m\u001b[0m\n",
      "\u001b[0;31mResponseError\u001b[0m: subcommand not found"
     ]
    }
   ],
   "source": [
    "%%time \n",
    "slot = redisai_cluster_client.connection_pool.nodes.keyslot(sentence_key)\n",
    "node = redisai_cluster_client.connection_pool.get_master_node_by_slot(slot)\n",
    "connection = redisai_cluster_client.connection_pool.get_connection_by_node(node)\n",
    "connection.send_command('RG.TRIGGER',\"RunQABERT\",sentence_key,question)\n",
    "print(connection.__dict__)\n",
    "print(redisai_cluster_client.parse_response(connection,\"RG.TRIGGER\"))"
   ]
  },
  {
   "cell_type": "code",
   "execution_count": 8,
   "id": "marine-opposition",
   "metadata": {},
   "outputs": [
    {
     "name": "stdout",
     "output_type": "stream",
     "text": [
      "{'readonly': False, 'pid': 2218382, 'host': '172.19.0.4', 'port': 30001, 'db': 0, 'username': None, 'client_name': None, 'password': None, 'socket_timeout': None, 'socket_connect_timeout': None, 'socket_keepalive': False, 'socket_keepalive_options': {}, 'socket_type': 0, 'retry_on_timeout': False, 'health_check_interval': 0, 'next_health_check': 0, 'encoder': <redis.connection.Encoder object at 0x7ff670b3d190>, '_sock': <socket.socket fd=46, family=AddressFamily.AF_INET, type=SocketKind.SOCK_STREAM, proto=6, laddr=('172.19.0.1', 45808), raddr=('172.19.0.4', 30001)>, '_parser': <rediscluster.connection.ClusterParser object at 0x7ff670b3d2b0>, '_connect_callbacks': [], '_buffer_cutoff': 6000, 'node': {'host': '172.19.0.4', 'port': 30001, 'name': '172.19.0.4:30001', 'server_type': 'master'}}\n"
     ]
    },
    {
     "ename": "ResponseError",
     "evalue": "subcommand not found",
     "output_type": "error",
     "traceback": [
      "\u001b[0;31m---------------------------------------------------------------------------\u001b[0m",
      "\u001b[0;31mResponseError\u001b[0m                             Traceback (most recent call last)",
      "\u001b[0;32m<timed exec>\u001b[0m in \u001b[0;36m<module>\u001b[0;34m\u001b[0m\n",
      "\u001b[0;32m~/anaconda3/envs/thepattern_env/lib/python3.8/site-packages/redis/client.py\u001b[0m in \u001b[0;36mparse_response\u001b[0;34m(self, connection, command_name, **options)\u001b[0m\n\u001b[1;32m    913\u001b[0m         \u001b[0;34m\"Parses a response from the Redis server\"\u001b[0m\u001b[0;34m\u001b[0m\u001b[0;34m\u001b[0m\u001b[0m\n\u001b[1;32m    914\u001b[0m         \u001b[0;32mtry\u001b[0m\u001b[0;34m:\u001b[0m\u001b[0;34m\u001b[0m\u001b[0;34m\u001b[0m\u001b[0m\n\u001b[0;32m--> 915\u001b[0;31m             \u001b[0mresponse\u001b[0m \u001b[0;34m=\u001b[0m \u001b[0mconnection\u001b[0m\u001b[0;34m.\u001b[0m\u001b[0mread_response\u001b[0m\u001b[0;34m(\u001b[0m\u001b[0;34m)\u001b[0m\u001b[0;34m\u001b[0m\u001b[0;34m\u001b[0m\u001b[0m\n\u001b[0m\u001b[1;32m    916\u001b[0m         \u001b[0;32mexcept\u001b[0m \u001b[0mResponseError\u001b[0m\u001b[0;34m:\u001b[0m\u001b[0;34m\u001b[0m\u001b[0;34m\u001b[0m\u001b[0m\n\u001b[1;32m    917\u001b[0m             \u001b[0;32mif\u001b[0m \u001b[0mEMPTY_RESPONSE\u001b[0m \u001b[0;32min\u001b[0m \u001b[0moptions\u001b[0m\u001b[0;34m:\u001b[0m\u001b[0;34m\u001b[0m\u001b[0;34m\u001b[0m\u001b[0m\n",
      "\u001b[0;32m~/anaconda3/envs/thepattern_env/lib/python3.8/site-packages/redis/connection.py\u001b[0m in \u001b[0;36mread_response\u001b[0;34m(self)\u001b[0m\n\u001b[1;32m    754\u001b[0m \u001b[0;34m\u001b[0m\u001b[0m\n\u001b[1;32m    755\u001b[0m         \u001b[0;32mif\u001b[0m \u001b[0misinstance\u001b[0m\u001b[0;34m(\u001b[0m\u001b[0mresponse\u001b[0m\u001b[0;34m,\u001b[0m \u001b[0mResponseError\u001b[0m\u001b[0;34m)\u001b[0m\u001b[0;34m:\u001b[0m\u001b[0;34m\u001b[0m\u001b[0;34m\u001b[0m\u001b[0m\n\u001b[0;32m--> 756\u001b[0;31m             \u001b[0;32mraise\u001b[0m \u001b[0mresponse\u001b[0m\u001b[0;34m\u001b[0m\u001b[0;34m\u001b[0m\u001b[0m\n\u001b[0m\u001b[1;32m    757\u001b[0m         \u001b[0;32mreturn\u001b[0m \u001b[0mresponse\u001b[0m\u001b[0;34m\u001b[0m\u001b[0;34m\u001b[0m\u001b[0m\n\u001b[1;32m    758\u001b[0m \u001b[0;34m\u001b[0m\u001b[0m\n",
      "\u001b[0;31mResponseError\u001b[0m: subcommand not found"
     ]
    }
   ],
   "source": [
    "%%time\n",
    "slot = redisai_cluster_client.connection_pool.nodes.keyslot(sentence_key)\n",
    "node = redisai_cluster_client.connection_pool.get_master_node_by_slot(slot)\n",
    "connection = redisai_cluster_client.connection_pool.get_connection_by_node(node)\n",
    "connection.send_command('RG.TRIGGER',\"RunQABERT\",sentence_key,question)\n",
    "print(connection.__dict__)\n",
    "print(redisai_cluster_client.parse_response(connection,\"RG.TRIGGER\"))"
   ]
  },
  {
   "cell_type": "code",
   "execution_count": 9,
   "id": "interested-addition",
   "metadata": {},
   "outputs": [
    {
     "data": {
      "text/plain": [
       "'Effectiveness of community contact reduction'"
      ]
     },
     "execution_count": 9,
     "metadata": {},
     "output_type": "execute_result"
    }
   ],
   "source": [
    "question"
   ]
  },
  {
   "cell_type": "code",
   "execution_count": 4,
   "id": "domestic-trigger",
   "metadata": {},
   "outputs": [],
   "source": [
    "from rediscluster import RedisCluster"
   ]
  },
  {
   "cell_type": "code",
   "execution_count": 5,
   "id": "developed-economics",
   "metadata": {},
   "outputs": [],
   "source": [
    "startup_nodes = [{\"host\": \"127.0.0.1\", \"port\": \"30001\"}, {\"host\": \"127.0.0.1\", \"port\":\"30002\"}, {\"host\":\"127.0.0.1\", \"port\":\"30003\"}]\n",
    "rc = RedisCluster(startup_nodes=startup_nodes, decode_responses=True)"
   ]
  },
  {
   "cell_type": "code",
   "execution_count": 6,
   "id": "black-sessions",
   "metadata": {},
   "outputs": [],
   "source": [
    "object_methods = [method_name for method_name in dir(rc)\n",
    "                  if callable(getattr(rc, method_name))]"
   ]
  },
  {
   "cell_type": "code",
   "execution_count": 7,
   "id": "needed-fault",
   "metadata": {},
   "outputs": [],
   "source": [
    "sentence_key=\"PMC261870.xml:{06S}:26\"\n",
    "question=\"Effectiveness of community contact reduction\""
   ]
  },
  {
   "cell_type": "code",
   "execution_count": 8,
   "id": "disturbed-uganda",
   "metadata": {},
   "outputs": [
    {
     "ename": "ResponseError",
     "evalue": "subcommand not found",
     "output_type": "error",
     "traceback": [
      "\u001b[0;31m---------------------------------------------------------------------------\u001b[0m",
      "\u001b[0;31mResponseError\u001b[0m                             Traceback (most recent call last)",
      "\u001b[0;32m<ipython-input-8-4855eac49a67>\u001b[0m in \u001b[0;36m<module>\u001b[0;34m\u001b[0m\n\u001b[0;32m----> 1\u001b[0;31m \u001b[0mrc\u001b[0m\u001b[0;34m.\u001b[0m\u001b[0mexecute_command\u001b[0m\u001b[0;34m(\u001b[0m\u001b[0;34m'RG.TRIGGER'\u001b[0m\u001b[0;34m,\u001b[0m\u001b[0;34m\"RunQABERT\"\u001b[0m\u001b[0;34m,\u001b[0m\u001b[0msentence_key\u001b[0m\u001b[0;34m,\u001b[0m\u001b[0mquestion\u001b[0m\u001b[0;34m)\u001b[0m\u001b[0;34m\u001b[0m\u001b[0;34m\u001b[0m\u001b[0m\n\u001b[0m",
      "\u001b[0;32m~/anaconda3/envs/thepattern_env/lib/python3.8/site-packages/rediscluster/client.py\u001b[0m in \u001b[0;36mexecute_command\u001b[0;34m(self, *args, **kwargs)\u001b[0m\n\u001b[1;32m    557\u001b[0m         \u001b[0;32mfor\u001b[0m \u001b[0m_\u001b[0m \u001b[0;32min\u001b[0m \u001b[0mrange\u001b[0m\u001b[0;34m(\u001b[0m\u001b[0;36m0\u001b[0m\u001b[0;34m,\u001b[0m \u001b[0mself\u001b[0m\u001b[0;34m.\u001b[0m\u001b[0mcluster_down_retry_attempts\u001b[0m\u001b[0;34m)\u001b[0m\u001b[0;34m:\u001b[0m\u001b[0;34m\u001b[0m\u001b[0;34m\u001b[0m\u001b[0m\n\u001b[1;32m    558\u001b[0m             \u001b[0;32mtry\u001b[0m\u001b[0;34m:\u001b[0m\u001b[0;34m\u001b[0m\u001b[0;34m\u001b[0m\u001b[0m\n\u001b[0;32m--> 559\u001b[0;31m                 \u001b[0;32mreturn\u001b[0m \u001b[0mself\u001b[0m\u001b[0;34m.\u001b[0m\u001b[0m_execute_command\u001b[0m\u001b[0;34m(\u001b[0m\u001b[0;34m*\u001b[0m\u001b[0margs\u001b[0m\u001b[0;34m,\u001b[0m \u001b[0;34m**\u001b[0m\u001b[0mkwargs\u001b[0m\u001b[0;34m)\u001b[0m\u001b[0;34m\u001b[0m\u001b[0;34m\u001b[0m\u001b[0m\n\u001b[0m\u001b[1;32m    560\u001b[0m             \u001b[0;32mexcept\u001b[0m \u001b[0mClusterDownError\u001b[0m\u001b[0;34m:\u001b[0m\u001b[0;34m\u001b[0m\u001b[0;34m\u001b[0m\u001b[0m\n\u001b[1;32m    561\u001b[0m                 \u001b[0;31m# Try again with the new cluster setup. All other errors\u001b[0m\u001b[0;34m\u001b[0m\u001b[0;34m\u001b[0m\u001b[0;34m\u001b[0m\u001b[0m\n",
      "\u001b[0;32m~/anaconda3/envs/thepattern_env/lib/python3.8/site-packages/rediscluster/client.py\u001b[0m in \u001b[0;36m_execute_command\u001b[0;34m(self, *args, **kwargs)\u001b[0m\n\u001b[1;32m    712\u001b[0m                 \u001b[0mlog\u001b[0m\u001b[0;34m.\u001b[0m\u001b[0mexception\u001b[0m\u001b[0;34m(\u001b[0m\u001b[0;34m\"BaseException\"\u001b[0m\u001b[0;34m)\u001b[0m\u001b[0;34m\u001b[0m\u001b[0;34m\u001b[0m\u001b[0m\n\u001b[1;32m    713\u001b[0m                 \u001b[0mconnection\u001b[0m\u001b[0;34m.\u001b[0m\u001b[0mdisconnect\u001b[0m\u001b[0;34m(\u001b[0m\u001b[0;34m)\u001b[0m\u001b[0;34m\u001b[0m\u001b[0;34m\u001b[0m\u001b[0m\n\u001b[0;32m--> 714\u001b[0;31m                 \u001b[0;32mraise\u001b[0m \u001b[0me\u001b[0m\u001b[0;34m\u001b[0m\u001b[0;34m\u001b[0m\u001b[0m\n\u001b[0m\u001b[1;32m    715\u001b[0m             \u001b[0;32mfinally\u001b[0m\u001b[0;34m:\u001b[0m\u001b[0;34m\u001b[0m\u001b[0;34m\u001b[0m\u001b[0m\n\u001b[1;32m    716\u001b[0m                 \u001b[0;32mif\u001b[0m \u001b[0mconnection\u001b[0m \u001b[0;32mis\u001b[0m \u001b[0;32mnot\u001b[0m \u001b[0;32mNone\u001b[0m\u001b[0;34m:\u001b[0m\u001b[0;34m\u001b[0m\u001b[0;34m\u001b[0m\u001b[0m\n",
      "\u001b[0;32m~/anaconda3/envs/thepattern_env/lib/python3.8/site-packages/rediscluster/client.py\u001b[0m in \u001b[0;36m_execute_command\u001b[0;34m(self, *args, **kwargs)\u001b[0m\n\u001b[1;32m    633\u001b[0m \u001b[0;34m\u001b[0m\u001b[0m\n\u001b[1;32m    634\u001b[0m                 \u001b[0mconnection\u001b[0m\u001b[0;34m.\u001b[0m\u001b[0msend_command\u001b[0m\u001b[0;34m(\u001b[0m\u001b[0;34m*\u001b[0m\u001b[0margs\u001b[0m\u001b[0;34m)\u001b[0m\u001b[0;34m\u001b[0m\u001b[0;34m\u001b[0m\u001b[0m\n\u001b[0;32m--> 635\u001b[0;31m                 \u001b[0;32mreturn\u001b[0m \u001b[0mself\u001b[0m\u001b[0;34m.\u001b[0m\u001b[0mparse_response\u001b[0m\u001b[0;34m(\u001b[0m\u001b[0mconnection\u001b[0m\u001b[0;34m,\u001b[0m \u001b[0mcommand\u001b[0m\u001b[0;34m,\u001b[0m \u001b[0;34m**\u001b[0m\u001b[0mkwargs\u001b[0m\u001b[0;34m)\u001b[0m\u001b[0;34m\u001b[0m\u001b[0;34m\u001b[0m\u001b[0m\n\u001b[0m\u001b[1;32m    636\u001b[0m             \u001b[0;32mexcept\u001b[0m \u001b[0mSlotNotCoveredError\u001b[0m \u001b[0;32mas\u001b[0m \u001b[0me\u001b[0m\u001b[0;34m:\u001b[0m\u001b[0;34m\u001b[0m\u001b[0;34m\u001b[0m\u001b[0m\n\u001b[1;32m    637\u001b[0m                 \u001b[0mlog\u001b[0m\u001b[0;34m.\u001b[0m\u001b[0mexception\u001b[0m\u001b[0;34m(\u001b[0m\u001b[0;34m\"SlotNotCoveredError\"\u001b[0m\u001b[0;34m)\u001b[0m\u001b[0;34m\u001b[0m\u001b[0;34m\u001b[0m\u001b[0m\n",
      "\u001b[0;32m~/anaconda3/envs/thepattern_env/lib/python3.8/site-packages/redis/client.py\u001b[0m in \u001b[0;36mparse_response\u001b[0;34m(self, connection, command_name, **options)\u001b[0m\n\u001b[1;32m    913\u001b[0m         \u001b[0;34m\"Parses a response from the Redis server\"\u001b[0m\u001b[0;34m\u001b[0m\u001b[0;34m\u001b[0m\u001b[0m\n\u001b[1;32m    914\u001b[0m         \u001b[0;32mtry\u001b[0m\u001b[0;34m:\u001b[0m\u001b[0;34m\u001b[0m\u001b[0;34m\u001b[0m\u001b[0m\n\u001b[0;32m--> 915\u001b[0;31m             \u001b[0mresponse\u001b[0m \u001b[0;34m=\u001b[0m \u001b[0mconnection\u001b[0m\u001b[0;34m.\u001b[0m\u001b[0mread_response\u001b[0m\u001b[0;34m(\u001b[0m\u001b[0;34m)\u001b[0m\u001b[0;34m\u001b[0m\u001b[0;34m\u001b[0m\u001b[0m\n\u001b[0m\u001b[1;32m    916\u001b[0m         \u001b[0;32mexcept\u001b[0m \u001b[0mResponseError\u001b[0m\u001b[0;34m:\u001b[0m\u001b[0;34m\u001b[0m\u001b[0;34m\u001b[0m\u001b[0m\n\u001b[1;32m    917\u001b[0m             \u001b[0;32mif\u001b[0m \u001b[0mEMPTY_RESPONSE\u001b[0m \u001b[0;32min\u001b[0m \u001b[0moptions\u001b[0m\u001b[0;34m:\u001b[0m\u001b[0;34m\u001b[0m\u001b[0;34m\u001b[0m\u001b[0m\n",
      "\u001b[0;32m~/anaconda3/envs/thepattern_env/lib/python3.8/site-packages/redis/connection.py\u001b[0m in \u001b[0;36mread_response\u001b[0;34m(self)\u001b[0m\n\u001b[1;32m    754\u001b[0m \u001b[0;34m\u001b[0m\u001b[0m\n\u001b[1;32m    755\u001b[0m         \u001b[0;32mif\u001b[0m \u001b[0misinstance\u001b[0m\u001b[0;34m(\u001b[0m\u001b[0mresponse\u001b[0m\u001b[0;34m,\u001b[0m \u001b[0mResponseError\u001b[0m\u001b[0;34m)\u001b[0m\u001b[0;34m:\u001b[0m\u001b[0;34m\u001b[0m\u001b[0;34m\u001b[0m\u001b[0m\n\u001b[0;32m--> 756\u001b[0;31m             \u001b[0;32mraise\u001b[0m \u001b[0mresponse\u001b[0m\u001b[0;34m\u001b[0m\u001b[0;34m\u001b[0m\u001b[0m\n\u001b[0m\u001b[1;32m    757\u001b[0m         \u001b[0;32mreturn\u001b[0m \u001b[0mresponse\u001b[0m\u001b[0;34m\u001b[0m\u001b[0;34m\u001b[0m\u001b[0m\n\u001b[1;32m    758\u001b[0m \u001b[0;34m\u001b[0m\u001b[0m\n",
      "\u001b[0;31mResponseError\u001b[0m: subcommand not found"
     ]
    }
   ],
   "source": [
    "rc.execute_command('RG.TRIGGER',\"RunQABERT\",sentence_key,question)"
   ]
  },
  {
   "cell_type": "code",
   "execution_count": null,
   "id": "latter-statistics",
   "metadata": {},
   "outputs": [],
   "source": [
    "command='RG.TRIGGER'"
   ]
  },
  {
   "cell_type": "code",
   "execution_count": null,
   "id": "headed-voltage",
   "metadata": {},
   "outputs": [],
   "source": [
    "rc.determine_node('RG.TRIGGER',\"RunQABERT\",sentence_key,question)"
   ]
  },
  {
   "cell_type": "code",
   "execution_count": null,
   "id": "arbitrary-acrobat",
   "metadata": {},
   "outputs": [],
   "source": [
    "print(rc.nodes_flags.get(command))"
   ]
  },
  {
   "cell_type": "code",
   "execution_count": null,
   "id": "placed-expression",
   "metadata": {},
   "outputs": [],
   "source": [
    "args=[1,2]"
   ]
  },
  {
   "cell_type": "code",
   "execution_count": null,
   "id": "olive-brooklyn",
   "metadata": {},
   "outputs": [],
   "source": [
    "len(args)>=1"
   ]
  },
  {
   "cell_type": "code",
   "execution_count": null,
   "id": "upper-lease",
   "metadata": {},
   "outputs": [],
   "source": [
    "rc.execute_command('RG.TRIGGER',\"RunQABERT\",sentence_key,question)"
   ]
  },
  {
   "cell_type": "code",
   "execution_count": null,
   "id": "japanese-costa",
   "metadata": {},
   "outputs": [],
   "source": []
  },
  {
   "cell_type": "code",
   "execution_count": null,
   "id": "accessory-flush",
   "metadata": {},
   "outputs": [],
   "source": [
    "from rediscluster import RedisCluster"
   ]
  },
  {
   "cell_type": "code",
   "execution_count": 9,
   "id": "exempt-phenomenon",
   "metadata": {},
   "outputs": [],
   "source": [
    "import logging\n",
    "\n",
    "from rediscluster import RedisCluster\n",
    "\n",
    "logging.basicConfig()\n",
    "logger = logging.getLogger('rediscluster')\n",
    "logger.setLevel(logging.DEBUG)\n",
    "logger.propagate = True"
   ]
  },
  {
   "cell_type": "code",
   "execution_count": 10,
   "id": "nutritional-thompson",
   "metadata": {},
   "outputs": [
    {
     "name": "stderr",
     "output_type": "stream",
     "text": [
      "INFO:rediscluster.client:Created new instance of RedisCluster client instance\n",
      "DEBUG:rediscluster.client:startup_nodes : [\n",
      "  {\n",
      "    \"host\": \"127.0.0.1\",\n",
      "    \"port\": \"30001\",\n",
      "    \"name\": \"127.0.0.1:30001\"\n",
      "  },\n",
      "  {\n",
      "    \"host\": \"127.0.0.1\",\n",
      "    \"port\": \"30002\",\n",
      "    \"name\": \"127.0.0.1:30002\"\n",
      "  },\n",
      "  {\n",
      "    \"host\": \"127.0.0.1\",\n",
      "    \"port\": \"30003\",\n",
      "    \"name\": \"127.0.0.1:30003\"\n",
      "  }\n",
      "]\n",
      "INFO:rediscluster.client:Using ClusterConnectionPool\n",
      "DEBUG:rediscluster.client:Connection pool class <class 'rediscluster.connection.ClusterConnectionPool'>\n",
      "DEBUG:rediscluster.connection:Creating new ClusterConnectionPool instance\n",
      "DEBUG:rediscluster.connection:Resetting ConnectionPool\n",
      "DEBUG:rediscluster.nodemanager:Creating new NodeManager instance\n",
      "DEBUG:rediscluster.nodemanager:Running initialize on NodeManager\n",
      "DEBUG:rediscluster.nodemanager:Original startup nodes configuration\n",
      "DEBUG:rediscluster.nodemanager:[\n",
      "  {\n",
      "    \"host\": \"127.0.0.1\",\n",
      "    \"port\": \"30001\",\n",
      "    \"name\": \"127.0.0.1:30001\"\n",
      "  },\n",
      "  {\n",
      "    \"host\": \"127.0.0.1\",\n",
      "    \"port\": \"30002\",\n",
      "    \"name\": \"127.0.0.1:30002\"\n",
      "  },\n",
      "  {\n",
      "    \"host\": \"127.0.0.1\",\n",
      "    \"port\": \"30003\",\n",
      "    \"name\": \"127.0.0.1:30003\"\n",
      "  }\n",
      "]\n",
      "DEBUG:rediscluster.nodemanager:NodeManager initialize done : Nodes\n",
      "DEBUG:rediscluster.nodemanager:{\n",
      "  \"172.19.0.4:30004\": {\n",
      "    \"host\": \"172.19.0.4\",\n",
      "    \"port\": 30004,\n",
      "    \"name\": \"172.19.0.4:30004\",\n",
      "    \"server_type\": \"master\"\n",
      "  },\n",
      "  \"172.19.0.4:30008\": {\n",
      "    \"host\": \"172.19.0.4\",\n",
      "    \"port\": 30008,\n",
      "    \"name\": \"172.19.0.4:30008\",\n",
      "    \"server_type\": \"slave\"\n",
      "  },\n",
      "  \"172.19.0.4:30001\": {\n",
      "    \"host\": \"172.19.0.4\",\n",
      "    \"port\": 30001,\n",
      "    \"name\": \"172.19.0.4:30001\",\n",
      "    \"server_type\": \"master\"\n",
      "  },\n",
      "  \"172.19.0.4:30009\": {\n",
      "    \"host\": \"172.19.0.4\",\n",
      "    \"port\": 30009,\n",
      "    \"name\": \"172.19.0.4:30009\",\n",
      "    \"server_type\": \"slave\"\n",
      "  },\n",
      "  \"172.19.0.4:30002\": {\n",
      "    \"host\": \"172.19.0.4\",\n",
      "    \"port\": 30002,\n",
      "    \"name\": \"172.19.0.4:30002\",\n",
      "    \"server_type\": \"master\"\n",
      "  },\n",
      "  \"172.19.0.4:30006\": {\n",
      "    \"host\": \"172.19.0.4\",\n",
      "    \"port\": 30006,\n",
      "    \"name\": \"172.19.0.4:30006\",\n",
      "    \"server_type\": \"slave\"\n",
      "  },\n",
      "  \"172.19.0.4:30005\": {\n",
      "    \"host\": \"172.19.0.4\",\n",
      "    \"port\": 30005,\n",
      "    \"name\": \"172.19.0.4:30005\",\n",
      "    \"server_type\": \"master\"\n",
      "  },\n",
      "  \"172.19.0.4:30007\": {\n",
      "    \"host\": \"172.19.0.4\",\n",
      "    \"port\": 30007,\n",
      "    \"name\": \"172.19.0.4:30007\",\n",
      "    \"server_type\": \"slave\"\n",
      "  },\n",
      "  \"172.19.0.4:30003\": {\n",
      "    \"host\": \"172.19.0.4\",\n",
      "    \"port\": 30003,\n",
      "    \"name\": \"172.19.0.4:30003\",\n",
      "    \"server_type\": \"master\"\n",
      "  },\n",
      "  \"172.19.0.4:30010\": {\n",
      "    \"host\": \"172.19.0.4\",\n",
      "    \"port\": 30010,\n",
      "    \"name\": \"172.19.0.4:30010\",\n",
      "    \"server_type\": \"slave\"\n",
      "  }\n",
      "}\n",
      "DEBUG:rediscluster.connection:Resetting ConnectionPool\n"
     ]
    }
   ],
   "source": [
    "rc = RedisCluster(startup_nodes=startup_nodes, decode_responses=True)"
   ]
  },
  {
   "cell_type": "code",
   "execution_count": 12,
   "id": "advisory-greeting",
   "metadata": {},
   "outputs": [
    {
     "name": "stderr",
     "output_type": "stream",
     "text": [
      "DEBUG:rediscluster.client:Command to execute : RG.TRIGGER : ('RG.TRIGGER', 'RunQABERT', 'PMC261870.xml:{06S}:26', 'Effectiveness of community contact reduction') : {}\n",
      "DEBUG:rediscluster.client:Determined node to execute : {'host': '172.19.0.4', 'port': 30001, 'name': '172.19.0.4:30001', 'server_type': 'master'}\n"
     ]
    },
    {
     "data": {
      "text/plain": [
       "['effectiveness of community contact reduction']"
      ]
     },
     "execution_count": 12,
     "metadata": {},
     "output_type": "execute_result"
    }
   ],
   "source": [
    "rc.execute_command('RG.TRIGGER',\"RunQABERT\",sentence_key,question)"
   ]
  },
  {
   "cell_type": "code",
   "execution_count": null,
   "id": "inside-enough",
   "metadata": {},
   "outputs": [],
   "source": [
    "rc.connection_pool.nodes.random_node()"
   ]
  },
  {
   "cell_type": "code",
   "execution_count": null,
   "id": "understood-antarctica",
   "metadata": {},
   "outputs": [],
   "source": [
    "list(rc.connection_pool.nodes.all_masters())"
   ]
  },
  {
   "cell_type": "code",
   "execution_count": null,
   "id": "israeli-string",
   "metadata": {},
   "outputs": [],
   "source": [
    "rc.get(sentence_key)"
   ]
  },
  {
   "cell_type": "code",
   "execution_count": null,
   "id": "vertical-vegetation",
   "metadata": {},
   "outputs": [],
   "source": [
    "print(rc.parse_response(connection,\"RG.TRIGGER\"))"
   ]
  },
  {
   "cell_type": "code",
   "execution_count": 36,
   "id": "thermal-honey",
   "metadata": {},
   "outputs": [
    {
     "name": "stderr",
     "output_type": "stream",
     "text": [
      "DEBUG:rediscluster.client:Command to execute : GET : ('GET', 'cache{06S}_PMC261870.xml:{06S}:26_Effectiveness of community contact reduction') : {}\n",
      "DEBUG:rediscluster.client:Determined node to execute : {'host': '172.19.0.4', 'port': 30001, 'name': '172.19.0.4:30001', 'server_type': 'master'}\n"
     ]
    }
   ],
   "source": [
    "result=rc.get(\"cache{06S}_PMC261870.xml:{06S}:26_Effectiveness of community contact reduction\")"
   ]
  },
  {
   "cell_type": "code",
   "execution_count": 37,
   "id": "authorized-lease",
   "metadata": {},
   "outputs": [
    {
     "name": "stdout",
     "output_type": "stream",
     "text": [
      "effectiveness of community contact reduction\n"
     ]
    }
   ],
   "source": [
    "print(result)"
   ]
  },
  {
   "cell_type": "code",
   "execution_count": 31,
   "id": "hawaiian-group",
   "metadata": {},
   "outputs": [
    {
     "name": "stderr",
     "output_type": "stream",
     "text": [
      "DEBUG:rediscluster.client:Command to execute : GET : ('GET', 'cache{06S}_PMC222961.xml:{06S}:4_RNA word usage could be used') : {}\n",
      "DEBUG:rediscluster.client:Determined node to execute : {'host': '172.19.0.4', 'port': 30001, 'name': '172.19.0.4:30001', 'server_type': 'master'}\n"
     ]
    },
    {
     "data": {
      "text/plain": [
       "''"
      ]
     },
     "execution_count": 31,
     "metadata": {},
     "output_type": "execute_result"
    }
   ],
   "source": [
    "rc.get(\"cache{06S}_PMC222961.xml:{06S}:4_RNA word usage could be used\")"
   ]
  }
 ],
 "metadata": {
  "kernelspec": {
   "display_name": "Python 3",
   "language": "python",
   "name": "python3"
  },
  "language_info": {
   "codemirror_mode": {
    "name": "ipython",
    "version": 3
   },
   "file_extension": ".py",
   "mimetype": "text/x-python",
   "name": "python",
   "nbconvert_exporter": "python",
   "pygments_lexer": "ipython3",
   "version": "3.8.8"
  }
 },
 "nbformat": 4,
 "nbformat_minor": 5
}
